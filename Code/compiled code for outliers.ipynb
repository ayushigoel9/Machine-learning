{
 "cells": [
  {
   "cell_type": "code",
   "execution_count": null,
   "metadata": {},
   "outputs": [],
   "source": [
    "#checking for outliers and replacing them with the median\n",
    "import statistics\n",
    "def removeOutliers(x):\n",
    "\n",
    "    a = np.array(x)\n",
    "\n",
    "    q25, q75 = np.percentile(a, 25), np.percentile(a, 75)\n",
    "    iqr = q75 - q25\n",
    "    print('Percentiles: 25th=%.3f, 75th=%.3f, IQR=%.3f \\n' % (q25, q75, iqr)  )\n",
    "    \n",
    "    upper_quartile = np.percentile(a, 75)\n",
    "\n",
    "    lower_quartile = np.percentile(a, 25)\n",
    "\n",
    "    IQR = (upper_quartile - lower_quartile) * 1.5\n",
    "\n",
    "    quartileSet = (lower_quartile - IQR, upper_quartile + IQR)\n",
    "    \n",
    "    # identify outliers\n",
    "    outliers = [x for x in a if x < quartileSet[0] or x > quartileSet[1]]\n",
    "    print('Identified outliers: %d \\n' % len(outliers)  )\n",
    "        # remove outliers\n",
    "    outliers_removed = [x for x in a if x >= quartileSet[0] and x <= quartileSet[1]]\n",
    "    print('Non-outlier observations: %d \\n' % len(outliers_removed)  )\n",
    "    \n",
    "    b = []\n",
    "    b = np.where((a > quartileSet[1]) | (a < quartileSet[0]))\n",
    "    print(\"Position of outliers: \\n\"  )\n",
    "    print(b)\n",
    "    resultList = []\n",
    "    print(\"\\n Dataset with outliers removed and median of column placed in their place \\n \" )\n",
    "    m = statistics.median(a)\n",
    "    print(\"Median of the column:\")\n",
    "    print(m)\n",
    "    print(\"\\n\")\n",
    "    for y in a.tolist():\n",
    "\n",
    "        if y >= quartileSet[0] and y <= quartileSet[1]:\n",
    "\n",
    "            resultList.append(y)\n",
    "        else:\n",
    "            resultList.append(m)\n",
    "    df.var_1 = resultList\n",
    "    return resultList"
   ]
  },
  {
   "cell_type": "code",
   "execution_count": null,
   "metadata": {},
   "outputs": [],
   "source": [
    "var9 = removeOutliers(df.var_9)\n",
    "print(var9)"
   ]
  }
 ],
 "metadata": {
  "kernelspec": {
   "display_name": "Python 3",
   "language": "python",
   "name": "python3"
  },
  "language_info": {
   "codemirror_mode": {
    "name": "ipython",
    "version": 3
   },
   "file_extension": ".py",
   "mimetype": "text/x-python",
   "name": "python",
   "nbconvert_exporter": "python",
   "pygments_lexer": "ipython3",
   "version": "3.6.8"
  }
 },
 "nbformat": 4,
 "nbformat_minor": 2
}
