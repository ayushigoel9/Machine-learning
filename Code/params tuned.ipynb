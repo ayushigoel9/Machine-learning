{
 "cells": [
  {
   "cell_type": "code",
   "execution_count": 1,
   "metadata": {},
   "outputs": [],
   "source": [
    "import numpy as np\n",
    "import pandas as pd\n",
    "import lightgbm as lgb\n",
    "import matplotlib\n",
    "from sklearn.metrics import mean_squared_error\n",
    "from sklearn.metrics import roc_auc_score\n",
    "from sklearn.model_selection import StratifiedKFold,RepeatedKFold\n",
    "import warnings\n",
    "from six.moves import urllib\n",
    "import matplotlib\n",
    "import matplotlib.pyplot as plt\n",
    "import seaborn as sns\n",
    "warnings.filterwarnings('ignore')\n",
    "%matplotlib inline\n",
    "plt.style.use('seaborn')\n",
    "from scipy.stats import norm, skew"
   ]
  },
  {
   "cell_type": "code",
   "execution_count": 2,
   "metadata": {},
   "outputs": [],
   "source": [
    "train = pd.read_csv('train.csv')\n",
    "test = pd.read_csv('test.csv')\n",
    "features = [c for c in train.columns if c not in ['ID_code', 'target']]"
   ]
  },
  {
   "cell_type": "code",
   "execution_count": 3,
   "metadata": {},
   "outputs": [],
   "source": [
    "param = {\n",
    "    'bagging_freq': 5,\n",
    "    'bagging_fraction': 0.335,\n",
    "    'boost_from_average':'false',\n",
    "    'boost': 'gbdt',\n",
    "    'feature_fraction': 0.041,\n",
    "    'learning_rate': 0.0083,\n",
    "    'max_depth': -1,\n",
    "    'metric':'auc',\n",
    "    'min_data_in_leaf': 80,\n",
    "    'min_sum_hessian_in_leaf': 10.0,\n",
    "    'num_leaves': 13,\n",
    "    'num_threads': 8,\n",
    "    'tree_learner': 'serial',\n",
    "    'objective': 'binary', \n",
    "    'verbosity': -1\n",
    "}"
   ]
  },
  {
   "cell_type": "code",
   "execution_count": 4,
   "metadata": {},
   "outputs": [
    {
     "name": "stdout",
     "output_type": "stream",
     "text": [
      "Light GBM Model\n",
      "Fold idx:1\n",
      "Training until validation scores don't improve for 4000 rounds.\n",
      "[5000]\ttraining's auc: 0.925038\tvalid_1's auc: 0.898056\n",
      "[10000]\ttraining's auc: 0.940795\tvalid_1's auc: 0.900623\n",
      "[15000]\ttraining's auc: 0.953527\tvalid_1's auc: 0.901141\n",
      "Early stopping, best iteration is:\n",
      "[14826]\ttraining's auc: 0.953108\tvalid_1's auc: 0.901212\n",
      "Fold idx:2\n",
      "Training until validation scores don't improve for 4000 rounds.\n",
      "[5000]\ttraining's auc: 0.925337\tvalid_1's auc: 0.896843\n",
      "[10000]\ttraining's auc: 0.94097\tvalid_1's auc: 0.89824\n",
      "[15000]\ttraining's auc: 0.953692\tvalid_1's auc: 0.897862\n",
      "Early stopping, best iteration is:\n",
      "[12398]\ttraining's auc: 0.947305\tvalid_1's auc: 0.89828\n",
      "Fold idx:3\n",
      "Training until validation scores don't improve for 4000 rounds.\n",
      "[5000]\ttraining's auc: 0.925795\tvalid_1's auc: 0.890566\n",
      "[10000]\ttraining's auc: 0.941327\tvalid_1's auc: 0.89323\n",
      "[15000]\ttraining's auc: 0.954066\tvalid_1's auc: 0.892995\n",
      "Early stopping, best iteration is:\n",
      "[12375]\ttraining's auc: 0.947641\tvalid_1's auc: 0.893433\n",
      "Fold idx:4\n",
      "Training until validation scores don't improve for 4000 rounds.\n",
      "[5000]\ttraining's auc: 0.925057\tvalid_1's auc: 0.900415\n",
      "[10000]\ttraining's auc: 0.940634\tvalid_1's auc: 0.90206\n",
      "[15000]\ttraining's auc: 0.953378\tvalid_1's auc: 0.902308\n",
      "Early stopping, best iteration is:\n",
      "[13993]\ttraining's auc: 0.950973\tvalid_1's auc: 0.902384\n",
      "Fold idx:5\n",
      "Training until validation scores don't improve for 4000 rounds.\n",
      "[5000]\ttraining's auc: 0.92529\tvalid_1's auc: 0.89652\n",
      "[10000]\ttraining's auc: 0.940894\tvalid_1's auc: 0.898519\n",
      "[15000]\ttraining's auc: 0.953648\tvalid_1's auc: 0.898402\n",
      "Early stopping, best iteration is:\n",
      "[12701]\ttraining's auc: 0.947997\tvalid_1's auc: 0.898654\n",
      "Fold idx:6\n",
      "Training until validation scores don't improve for 4000 rounds.\n",
      "[5000]\ttraining's auc: 0.925201\tvalid_1's auc: 0.899391\n",
      "[10000]\ttraining's auc: 0.940798\tvalid_1's auc: 0.900757\n",
      "Early stopping, best iteration is:\n",
      "[7637]\ttraining's auc: 0.933922\tvalid_1's auc: 0.900944\n",
      "Fold idx:7\n",
      "Training until validation scores don't improve for 4000 rounds.\n",
      "[5000]\ttraining's auc: 0.924821\tvalid_1's auc: 0.904638\n",
      "[10000]\ttraining's auc: 0.940475\tvalid_1's auc: 0.905911\n",
      "Early stopping, best iteration is:\n",
      "[10526]\ttraining's auc: 0.941906\tvalid_1's auc: 0.906019\n",
      "Fold idx:8\n",
      "Training until validation scores don't improve for 4000 rounds.\n",
      "[5000]\ttraining's auc: 0.925351\tvalid_1's auc: 0.896563\n",
      "[10000]\ttraining's auc: 0.941055\tvalid_1's auc: 0.898575\n",
      "Early stopping, best iteration is:\n",
      "[10604]\ttraining's auc: 0.942686\tvalid_1's auc: 0.898665\n",
      "Fold idx:9\n",
      "Training until validation scores don't improve for 4000 rounds.\n",
      "[5000]\ttraining's auc: 0.925074\tvalid_1's auc: 0.901776\n",
      "[10000]\ttraining's auc: 0.94071\tvalid_1's auc: 0.903709\n",
      "Early stopping, best iteration is:\n",
      "[10819]\ttraining's auc: 0.942955\tvalid_1's auc: 0.903797\n",
      "Fold idx:10\n",
      "Training until validation scores don't improve for 4000 rounds.\n",
      "[5000]\ttraining's auc: 0.924811\tvalid_1's auc: 0.903248\n",
      "[10000]\ttraining's auc: 0.940513\tvalid_1's auc: 0.905012\n",
      "[15000]\ttraining's auc: 0.95325\tvalid_1's auc: 0.905063\n",
      "Early stopping, best iteration is:\n",
      "[11852]\ttraining's auc: 0.945442\tvalid_1's auc: 0.905325\n",
      "Fold idx:11\n",
      "Training until validation scores don't improve for 4000 rounds.\n",
      "[5000]\ttraining's auc: 0.925389\tvalid_1's auc: 0.898401\n",
      "[10000]\ttraining's auc: 0.941046\tvalid_1's auc: 0.900054\n",
      "Early stopping, best iteration is:\n",
      "[10853]\ttraining's auc: 0.943389\tvalid_1's auc: 0.900145\n",
      "CV score: 0.90058 \n"
     ]
    }
   ],
   "source": [
    "target = train['target']\n",
    "train = train.drop([\"ID_code\", \"target\"], axis=1)\n",
    "\n",
    "num_folds = 11\n",
    "features = [c for c in train.columns if c not in ['ID_code', 'target']]\n",
    "\n",
    "folds = StratifiedKFold(n_splits=num_folds, shuffle=False, random_state=2319)\n",
    "oof = np.zeros(len(train))\n",
    "predictions = np.zeros(len(target))\n",
    "\n",
    "print('Light GBM Model')\n",
    "for fold_, (trn_idx, val_idx) in enumerate(folds.split(train.values, target.values)):\n",
    "    print(\"Fold idx:{}\".format(fold_ + 1))\n",
    "    trn_data = lgb.Dataset(train.iloc[trn_idx][features], label=target.iloc[trn_idx])\n",
    "    val_data = lgb.Dataset(train.iloc[val_idx][features], label=target.iloc[val_idx])\n",
    "    \n",
    "    clf = lgb.train(param, trn_data, 1000000, valid_sets = [trn_data, val_data], verbose_eval=5000, early_stopping_rounds = 4000)\n",
    "    oof[val_idx] = clf.predict(train.iloc[val_idx][features], num_iteration=clf.best_iteration)\n",
    "    predictions += clf.predict(test[features], num_iteration=clf.best_iteration) / folds.n_splits\n",
    "\n",
    "print(\"CV score: {:<8.5f}\".format(roc_auc_score(target, oof)))"
   ]
  },
  {
   "cell_type": "code",
   "execution_count": 5,
   "metadata": {},
   "outputs": [
    {
     "name": "stdout",
     "output_type": "stream",
     "text": [
      "Saving the Submission File\n"
     ]
    }
   ],
   "source": [
    "num_sub = 19\n",
    "print('Saving the Submission File')\n",
    "sub = pd.DataFrame({\"ID_code\": test.ID_code.values})\n",
    "sub[\"target\"] = predictions\n",
    "sub.to_csv('sub{}.csv'.format(num_sub), index=False)"
   ]
  },
  {
   "cell_type": "code",
   "execution_count": null,
   "metadata": {},
   "outputs": [],
   "source": []
  }
 ],
 "metadata": {
  "kernelspec": {
   "display_name": "Python 3",
   "language": "python",
   "name": "python3"
  },
  "language_info": {
   "codemirror_mode": {
    "name": "ipython",
    "version": 3
   },
   "file_extension": ".py",
   "mimetype": "text/x-python",
   "name": "python",
   "nbconvert_exporter": "python",
   "pygments_lexer": "ipython3",
   "version": "3.6.8"
  }
 },
 "nbformat": 4,
 "nbformat_minor": 2
}
