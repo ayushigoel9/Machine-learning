{
 "cells": [
  {
   "cell_type": "code",
   "execution_count": 2,
   "metadata": {},
   "outputs": [],
   "source": [
    "import pandas as pd\n",
    "import numpy as np\n",
    "from sklearn.model_selection import train_test_split\n",
    "from sklearn.ensemble import AdaBoostClassifier\n",
    "from sklearn.metrics import classification_report\n",
    "from sklearn.metrics import average_precision_score\n",
    "from sklearn.metrics import precision_recall_curve\n",
    "from sklearn.utils import resample\n",
    "from imblearn.over_sampling import SMOTE"
   ]
  },
  {
   "cell_type": "code",
   "execution_count": 3,
   "metadata": {},
   "outputs": [],
   "source": [
    "df = pd.read_csv(\"train.csv\") "
   ]
  },
  {
   "cell_type": "code",
   "execution_count": 7,
   "metadata": {},
   "outputs": [
    {
     "data": {
      "text/plain": [
       "0    179902\n",
       "1     20098\n",
       "Name: target, dtype: int64"
      ]
     },
     "execution_count": 7,
     "metadata": {},
     "output_type": "execute_result"
    }
   ],
   "source": [
    "df.target.value_counts()"
   ]
  },
  {
   "cell_type": "code",
   "execution_count": 4,
   "metadata": {},
   "outputs": [],
   "source": [
    "from sklearn.model_selection import train_test_split\n",
    "from sklearn.metrics import accuracy_score, confusion_matrix, recall_score\n",
    "from sklearn.ensemble import RandomForestClassifier, AdaBoostClassifier, GradientBoostingClassifier\n",
    "from sklearn import metrics as m\n",
    "from sklearn.model_selection import StratifiedShuffleSplit\n",
    "from sklearn.model_selection import ShuffleSplit\n",
    "from sklearn.metrics import roc_auc_score"
   ]
  },
  {
   "cell_type": "code",
   "execution_count": 5,
   "metadata": {},
   "outputs": [],
   "source": [
    "X = df.drop([\"ID_code\",\"target\"], axis = 1)\n",
    "y = df.target"
   ]
  },
  {
   "cell_type": "code",
   "execution_count": 10,
   "metadata": {},
   "outputs": [
    {
     "name": "stdout",
     "output_type": "stream",
     "text": [
      "[[44949    26]\n",
      " [ 4869   156]]\n",
      "0.9021\n",
      "0.031044776119402984\n",
      "0.5152333385877726\n"
     ]
    }
   ],
   "source": [
    "X = df.drop([\"ID_code\",\"target\"], axis = 1)\n",
    "y = df.target\n",
    "\n",
    "X_train, X_test, y_train, y_test = train_test_split(X, y, random_state = 1, stratify=y)\n",
    "y_train.value_counts()\n",
    "ad = GradientBoostingClassifier()\n",
    "ad.fit(X_train, y_train)\n",
    "\n",
    "y_pred = ad.predict(X_test)\n",
    "\n",
    "cm = confusion_matrix(y_test, y_pred)\n",
    "print(cm)\n",
    "\n",
    "ac = accuracy_score(y_test, y_pred)\n",
    "print(ac)\n",
    "\n",
    "rs = recall_score(y_test, y_pred)\n",
    "print(rs)\n",
    "\n",
    "ras = roc_auc_score(y_test, y_pred)\n",
    "print(ras)\n"
   ]
  },
  {
   "cell_type": "code",
   "execution_count": 11,
   "metadata": {},
   "outputs": [
    {
     "data": {
      "text/plain": [
       "0    134927\n",
       "1     15073\n",
       "Name: target, dtype: int64"
      ]
     },
     "execution_count": 11,
     "metadata": {},
     "output_type": "execute_result"
    }
   ],
   "source": [
    "y_train.value_counts()"
   ]
  },
  {
   "cell_type": "code",
   "execution_count": 12,
   "metadata": {},
   "outputs": [],
   "source": [
    "X_train, X_test, y_train, y_test = train_test_split(X, y, random_state = 1, stratify=y)\n",
    "smt = SMOTE()\n",
    "X_train, y_train = smt.fit_sample(X_train, y_train)"
   ]
  },
  {
   "cell_type": "code",
   "execution_count": 13,
   "metadata": {},
   "outputs": [
    {
     "data": {
      "text/plain": [
       "array([134927, 134927], dtype=int64)"
      ]
     },
     "execution_count": 13,
     "metadata": {},
     "output_type": "execute_result"
    }
   ],
   "source": [
    "np.bincount(y_train)"
   ]
  },
  {
   "cell_type": "code",
   "execution_count": 14,
   "metadata": {},
   "outputs": [
    {
     "name": "stdout",
     "output_type": "stream",
     "text": [
      "[[38280  6695]\n",
      " [ 3242  1783]]\n",
      "0.80126\n",
      "0.3548258706467662\n",
      "0.6029826963017043\n"
     ]
    }
   ],
   "source": [
    "ad = GradientBoostingClassifier()\n",
    "ad.fit(X_train, y_train)\n",
    "\n",
    "y_pred = ad.predict(X_test)\n",
    "\n",
    "cm = confusion_matrix(y_test, y_pred)\n",
    "print(cm)\n",
    "\n",
    "ac = accuracy_score(y_test, y_pred)\n",
    "print(ac)\n",
    "\n",
    "rs = recall_score(y_test, y_pred)\n",
    "print(rs)\n",
    "\n",
    "ras = roc_auc_score(y_test, y_pred)\n",
    "print(ras)"
   ]
  },
  {
   "cell_type": "code",
   "execution_count": 6,
   "metadata": {},
   "outputs": [
    {
     "data": {
      "text/plain": [
       "array([15074, 15074], dtype=int64)"
      ]
     },
     "execution_count": 6,
     "metadata": {},
     "output_type": "execute_result"
    }
   ],
   "source": [
    "from imblearn.under_sampling import NearMiss\n",
    "X_train, X_test, y_train, y_test = train_test_split(X, y, random_state = 0, stratify=y)\n",
    "\n",
    "nr = NearMiss()\n",
    "X_train, y_train = nr.fit_sample(X_train, y_train)\n",
    "np.bincount(y_train)\n"
   ]
  },
  {
   "cell_type": "code",
   "execution_count": 20,
   "metadata": {},
   "outputs": [
    {
     "name": "stdout",
     "output_type": "stream",
     "text": [
      "[[30497 14479]\n",
      " [ 1124  3900]]\n",
      "0.68794\n",
      "0.7762738853503185\n",
      "0.7271733176306912\n"
     ]
    }
   ],
   "source": [
    "ad = GradientBoostingClassifier()\n",
    "ad.fit(X_train, y_train)\n",
    "\n",
    "y_pred = ad.predict(X_test)\n",
    "\n",
    "cm = confusion_matrix(y_test, y_pred)\n",
    "print(cm)\n",
    "\n",
    "ac = accuracy_score(y_test, y_pred)\n",
    "print(ac)\n",
    "\n",
    "rs = recall_score(y_test, y_pred)\n",
    "print(rs)\n",
    "\n",
    "ras = roc_auc_score(y_test, y_pred)\n",
    "print(ras)"
   ]
  },
  {
   "cell_type": "code",
   "execution_count": null,
   "metadata": {},
   "outputs": [],
   "source": [
    "C = 1.0 "
   ]
  },
  {
   "cell_type": "code",
   "execution_count": 2,
   "metadata": {},
   "outputs": [],
   "source": [
    "# from sklearn import svm \n",
    "# # SVC with linear kernel\n",
    "\n",
    "# svc = svm.SVC(kernel='linear', C=C).fit(X_train, y_train)\n",
    "# y_pred = svc.predict(X_test)\n",
    "\n",
    "# cm = confusion_matrix(y_test, y_pred)\n",
    "# print(cm)\n",
    "\n",
    "# ac = accuracy_score(y_test, y_pred)\n",
    "# print(ac)\n",
    "\n",
    "# rs = recall_score(y_test, y_pred)\n",
    "# print(rs)\n",
    "\n",
    "# ras = roc_auc_score(y_test, y_pred)\n",
    "# print(ras)\n"
   ]
  },
  {
   "cell_type": "code",
   "execution_count": 1,
   "metadata": {},
   "outputs": [],
   "source": [
    "# poly_svc = svm.SVC(kernel='poly', degree=3, C=C).fit(X_train, y_train)\n",
    "# y_pred = poly_svc.predict(X_test)\n",
    "\n",
    "# cm = confusion_matrix(y_test, y_pred)\n",
    "# print(cm)\n",
    "\n",
    "# ac = accuracy_score(y_test, y_pred)\n",
    "# print(ac)\n",
    "\n",
    "# rs = recall_score(y_test, y_pred)\n",
    "# print(rs)\n",
    "\n",
    "# ras = roc_auc_score(y_test, y_pred)\n",
    "# print(ras)"
   ]
  },
  {
   "cell_type": "code",
   "execution_count": 9,
   "metadata": {},
   "outputs": [
    {
     "name": "stderr",
     "output_type": "stream",
     "text": [
      "C:\\Users\\Ayushi.Goel\\AppData\\Local\\Continuum\\anaconda3\\lib\\site-packages\\sklearn\\linear_model\\logistic.py:433: FutureWarning: Default solver will be changed to 'lbfgs' in 0.22. Specify a solver to silence this warning.\n",
      "  FutureWarning)\n"
     ]
    },
    {
     "name": "stdout",
     "output_type": "stream",
     "text": [
      "[[35678  9298]\n",
      " [ 1222  3802]]\n",
      "0.7896\n",
      "0.7567675159235668\n",
      "0.7750175181894605\n"
     ]
    }
   ],
   "source": [
    "from sklearn.linear_model import LogisticRegression\n",
    "lg = LogisticRegression()\n",
    "lg.fit(X_train, y_train)\n",
    "\n",
    "y_pred = lg.predict(X_test)\n",
    "\n",
    "cm = confusion_matrix(y_test, y_pred)\n",
    "print(cm)\n",
    "\n",
    "ac = accuracy_score(y_test, y_pred)\n",
    "print(ac)\n",
    "\n",
    "rs = recall_score(y_test, y_pred)\n",
    "print(rs)\n",
    "\n",
    "ras = roc_auc_score(y_test, y_pred)\n",
    "print(ras)"
   ]
  },
  {
   "cell_type": "code",
   "execution_count": 7,
   "metadata": {},
   "outputs": [
    {
     "data": {
      "text/plain": [
       "StandardScaler(copy=True, with_mean=True, with_std=True)"
      ]
     },
     "execution_count": 7,
     "metadata": {},
     "output_type": "execute_result"
    }
   ],
   "source": [
    "from sklearn.preprocessing import StandardScaler\n",
    "scaler = StandardScaler()\n",
    "# Fit only to the training data\n",
    "scaler.fit(X_train)"
   ]
  },
  {
   "cell_type": "code",
   "execution_count": 8,
   "metadata": {},
   "outputs": [],
   "source": [
    "# Now apply the transformations to the data:\n",
    "X_train = scaler.transform(X_train)\n",
    "X_test = scaler.transform(X_test)"
   ]
  },
  {
   "cell_type": "code",
   "execution_count": 12,
   "metadata": {},
   "outputs": [],
   "source": [
    "from sklearn.neural_network import MLPClassifier"
   ]
  },
  {
   "cell_type": "code",
   "execution_count": 13,
   "metadata": {},
   "outputs": [],
   "source": [
    "mlp = MLPClassifier(hidden_layer_sizes=(200,200,200))"
   ]
  },
  {
   "cell_type": "code",
   "execution_count": 14,
   "metadata": {},
   "outputs": [
    {
     "data": {
      "text/plain": [
       "MLPClassifier(activation='relu', alpha=0.0001, batch_size='auto', beta_1=0.9,\n",
       "       beta_2=0.999, early_stopping=False, epsilon=1e-08,\n",
       "       hidden_layer_sizes=(200, 200, 200), learning_rate='constant',\n",
       "       learning_rate_init=0.001, max_iter=200, momentum=0.9,\n",
       "       n_iter_no_change=10, nesterovs_momentum=True, power_t=0.5,\n",
       "       random_state=None, shuffle=True, solver='adam', tol=0.0001,\n",
       "       validation_fraction=0.1, verbose=False, warm_start=False)"
      ]
     },
     "execution_count": 14,
     "metadata": {},
     "output_type": "execute_result"
    }
   ],
   "source": [
    "mlp.fit(X_train,y_train)"
   ]
  },
  {
   "cell_type": "code",
   "execution_count": 15,
   "metadata": {},
   "outputs": [],
   "source": [
    "predictions = mlp.predict(X_test)"
   ]
  },
  {
   "cell_type": "code",
   "execution_count": 16,
   "metadata": {},
   "outputs": [
    {
     "name": "stdout",
     "output_type": "stream",
     "text": [
      "[[30487 14489]\n",
      " [ 1214  3810]]\n"
     ]
    }
   ],
   "source": [
    "from sklearn.metrics import classification_report,confusion_matrix\n",
    "print(confusion_matrix(y_test,predictions))"
   ]
  },
  {
   "cell_type": "code",
   "execution_count": 17,
   "metadata": {},
   "outputs": [
    {
     "name": "stdout",
     "output_type": "stream",
     "text": [
      "[[35678  9298]\n",
      " [ 1222  3802]]\n",
      "0.7896\n",
      "0.7567675159235668\n",
      "0.7750175181894605\n"
     ]
    }
   ],
   "source": [
    "cm = confusion_matrix(y_test, y_pred)\n",
    "print(cm)\n",
    "\n",
    "ac = accuracy_score(y_test, y_pred)\n",
    "print(ac)\n",
    "\n",
    "rs = recall_score(y_test, y_pred)\n",
    "print(rs)\n",
    "\n",
    "ras = roc_auc_score(y_test, y_pred)\n",
    "print(ras)"
   ]
  },
  {
   "cell_type": "code",
   "execution_count": 10,
   "metadata": {},
   "outputs": [
    {
     "name": "stdout",
     "output_type": "stream",
     "text": [
      "Num Features: 10\n",
      "Selected Features: [False False False False False False  True False False False False False\n",
      "  True False False False False False False False False False  True False\n",
      " False False  True False False False False False False False False False\n",
      " False False False False False False False False  True False False False\n",
      " False False False False False  True False False False False False False\n",
      " False False False False False False False False False False False False\n",
      " False False False False False False False False False  True False False\n",
      " False False False False False False False False False False False False\n",
      " False False False False False False False False False False False False\n",
      " False False  True False False False False False False False False False\n",
      " False False False False False False False False False False False False\n",
      " False False False False False False False  True False False False False\n",
      " False False False False False False False False False False False False\n",
      " False False False False False False False False False False  True False\n",
      " False False False False False False False False False False False False\n",
      " False False False False False False False False False False False False\n",
      " False False False False False False False False]\n",
      "Feature Ranking: [ 17  27   3 142 128  73   1 167 150  25 169 100   1   7 189 121 136 160\n",
      "  43 125 126  40   1 101  48 161   1 187 106 147 159  91  78  30   4  69\n",
      "  31 165 168 181  37 178 164  62   1 118 172 190  96  81 144  98  71   1\n",
      " 129  85  61 107  74 124 149 146 115 141 130 151 108  29 127 111 112  53\n",
      " 139 188 186  49  13 119  20 170   9   1 162  97 184 110  33  68 120  36\n",
      " 140  32  26  72  16  41 157 117 182   8 154 153 137 177  79  93  58  63\n",
      "  18  44   1  95  94 114  82  22 116 163  70  67 173  42  34  35 166  89\n",
      " 155  38  83 143  66  45  80   6 122  92 176  64 131   1 133  88 103 171\n",
      "  87 104   2  65  21  50  59  76 135 174  28  39  99  57 191 123 138 183\n",
      "  52  55  60  15   1  77 152  12  24 148  54  47  11  90 175  56 132  23\n",
      "  75 158 156 180  46 185 105 134  86 145   5  14  19 109 113  84 102  51\n",
      "  10 179]\n"
     ]
    }
   ],
   "source": [
    "from sklearn.feature_selection import RFE\n",
    "from sklearn.linear_model import LogisticRegression\n",
    "# Feature extraction\n",
    "model = LogisticRegression(solver='lbfgs')\n",
    "rfe = RFE(model, 10)\n",
    "fit = rfe.fit(X_train, y_train)\n",
    "print(\"Num Features: %s\" % (fit.n_features_))\n",
    "print(\"Selected Features: %s\" % (fit.support_))\n",
    "print(\"Feature Ranking: %s\" % (fit.ranking_))"
   ]
  },
  {
   "cell_type": "code",
   "execution_count": null,
   "metadata": {},
   "outputs": [],
   "source": []
  }
 ],
 "metadata": {
  "kernelspec": {
   "display_name": "Python 3",
   "language": "python",
   "name": "python3"
  },
  "language_info": {
   "codemirror_mode": {
    "name": "ipython",
    "version": 3
   },
   "file_extension": ".py",
   "mimetype": "text/x-python",
   "name": "python",
   "nbconvert_exporter": "python",
   "pygments_lexer": "ipython3",
   "version": "3.6.8"
  }
 },
 "nbformat": 4,
 "nbformat_minor": 2
}
